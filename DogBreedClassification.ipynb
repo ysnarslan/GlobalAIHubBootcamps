{
  "nbformat": 4,
  "nbformat_minor": 0,
  "metadata": {
    "colab": {
      "provenance": []
    },
    "kernelspec": {
      "name": "python3",
      "display_name": "Python 3"
    },
    "language_info": {
      "name": "python"
    }
  },
  "cells": [
    {
      "cell_type": "code",
      "execution_count": 1,
      "metadata": {
        "colab": {
          "base_uri": "https://localhost:8080/"
        },
        "id": "aZBoU_DULd2T",
        "outputId": "6ca8a328-aa6d-4ce9-d743-085961484e3f"
      },
      "outputs": [
        {
          "output_type": "stream",
          "name": "stdout",
          "text": [
            "Downloading dog-breed-identification.zip to /content\n",
            " 99% 686M/691M [00:04<00:00, 146MB/s]\n",
            "100% 691M/691M [00:05<00:00, 145MB/s]\n"
          ]
        }
      ],
      "source": [
        "# Load dataset (from Kaggle)\n",
        "\n",
        "# Make directory name kaggle\n",
        "! mkdir ~/.kaggle\n",
        "\n",
        "# Copy the json kaggle to this directory\n",
        "! cp kaggle.json ~/.kaggle/\n",
        "\n",
        "# Allocate the required permission for this file.\n",
        "! chmod 600 ~/.kaggle/kaggle.json\n",
        "\n",
        "# Download CelebA dataset from Kaggle\n",
        "!kaggle competitions download -c dog-breed-identification"
      ]
    }
  ]
}